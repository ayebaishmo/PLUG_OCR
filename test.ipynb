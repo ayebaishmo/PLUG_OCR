{
 "cells": [
  {
   "cell_type": "code",
   "execution_count": 28,
   "metadata": {},
   "outputs": [],
   "source": [
    "import os\n",
    "import google.generativeai  as genai\n",
    "from dotenv import load_dotenv"
   ]
  },
  {
   "cell_type": "code",
   "execution_count": 29,
   "metadata": {},
   "outputs": [
    {
     "data": {
      "text/plain": [
       "True"
      ]
     },
     "execution_count": 29,
     "metadata": {},
     "output_type": "execute_result"
    }
   ],
   "source": [
    "load_dotenv()"
   ]
  },
  {
   "cell_type": "code",
   "execution_count": 30,
   "metadata": {},
   "outputs": [],
   "source": [
    "API_KEY = os.getenv(\"GEMINI_API_KEY\")\n",
    "genai.configure(api_key=API_KEY)\n",
    "model = genai.GenerativeModel(\"gemini-2.0-flash\")"
   ]
  },
  {
   "cell_type": "code",
   "execution_count": 31,
   "metadata": {},
   "outputs": [],
   "source": [
    "# read the image\n",
    "from PIL import Image\n",
    "\n",
    "import io\n",
    "\n",
    "image_path = \"C:/Users/ISHMO_CT/Desktop/projects/PLUG_OCR/img/Reciept.jfif\"\n",
    "image = Image.open(image_path)"
   ]
  },
  {
   "cell_type": "code",
   "execution_count": 32,
   "metadata": {},
   "outputs": [
    {
     "name": "stdout",
     "output_type": "stream",
     "text": [
      "receipt detail response:\n",
      "GenerateContentResponse(\n",
      "    done=True,\n",
      "    iterator=None,\n",
      "    result=protos.GenerateContentResponse({\n",
      "      \"candidates\": [\n",
      "        {\n",
      "          \"content\": {\n",
      "            \"parts\": [\n",
      "              {\n",
      "                \"text\": \"Here are the bounding box detections:\\n```json\\n[\\n  {\\\"box_2d\\\": [395, 332, 413, 498], \\\"label\\\": \\\"1x Mineral Water\\\"},\\n  {\\\"box_2d\\\": [313, 333, 333, 489], \\\"label\\\": \\\"1x Chicken Soup\\\"},\\n  {\\\"box_2d\\\": [218, 425, 248, 592], \\\"label\\\": \\\"RECEIPT\\\"},\\n  {\\\"box_2d\\\": [367, 336, 387, 503], \\\"label\\\": \\\"1x Crispy Chicken\\\"},\\n  {\\\"box_2d\\\": [678, 384, 710, 615], \\\"label\\\": \\\"THANK YOU\\\"},\\n  {\\\"box_2d\\\": [422, 334, 442, 429], \\\"label\\\": \\\"2x Ice Tea\\\"},\\n  {\\\"box_2d\\\": [450, 333, 469, 468], \\\"label\\\": \\\"1x Lemon Juice\\\"},\\n  {\\\"box_2d\\\": [580, 332, 598, 377], \\\"label\\\": \\\"CASH\\\"},\\n  {\\\"box_2d\\\": [606, 332, 624, 401], \\\"label\\\": \\\"CHANGE\\\"},\\n  {\\\"box_2d\\\": [477, 333, 496, 475], \\\"label\\\": \\\"1x Mango Juice\\\"},\\n  {\\\"box_2d\\\": [340, 333, 359, 491], \\\"label\\\": \\\"2x Tomato Soup\\\"},\\n  {\\\"box_2d\\\": [531, 332, 549, 476], \\\"label\\\": \\\"TOTAL AMOUNT\\\"}\\n]\\n```\"\n",
      "              }\n",
      "            ],\n",
      "            \"role\": \"model\"\n",
      "          },\n",
      "          \"finish_reason\": \"STOP\",\n",
      "          \"avg_logprobs\": -0.187275801386152\n",
      "        }\n",
      "      ],\n",
      "      \"usage_metadata\": {\n",
      "        \"prompt_token_count\": 1291,\n",
      "        \"candidates_token_count\": 448,\n",
      "        \"total_token_count\": 1739\n",
      "      },\n",
      "      \"model_version\": \"gemini-2.0-flash\"\n",
      "    }),\n",
      ")\n"
     ]
    }
   ],
   "source": [
    "responce = model.generate_content([image], stream=False)\n",
    "print(\"receipt detail\", responce)"
   ]
  },
  {
   "cell_type": "code",
   "execution_count": null,
   "metadata": {},
   "outputs": [],
   "source": []
  }
 ],
 "metadata": {
  "kernelspec": {
   "display_name": "PLUG_OCR-vcGxd2AH",
   "language": "python",
   "name": "python3"
  },
  "language_info": {
   "codemirror_mode": {
    "name": "ipython",
    "version": 3
   },
   "file_extension": ".py",
   "mimetype": "text/x-python",
   "name": "python",
   "nbconvert_exporter": "python",
   "pygments_lexer": "ipython3",
   "version": "3.11.5"
  }
 },
 "nbformat": 4,
 "nbformat_minor": 2
}
