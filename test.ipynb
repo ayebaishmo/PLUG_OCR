{
 "cells": [
  {
   "cell_type": "code",
   "execution_count": 1,
   "metadata": {},
   "outputs": [
    {
     "name": "stderr",
     "output_type": "stream",
     "text": [
      "c:\\Users\\ISHMO_CT\\.virtualenvs\\PLUG_OCR-vcGxd2AH\\Lib\\site-packages\\tqdm\\auto.py:21: TqdmWarning: IProgress not found. Please update jupyter and ipywidgets. See https://ipywidgets.readthedocs.io/en/stable/user_install.html\n",
      "  from .autonotebook import tqdm as notebook_tqdm\n"
     ]
    }
   ],
   "source": [
    "import os\n",
    "import google.generativeai  as genai\n",
    "from dotenv import load_dotenv"
   ]
  },
  {
   "cell_type": "code",
   "execution_count": 2,
   "metadata": {},
   "outputs": [
    {
     "data": {
      "text/plain": [
       "True"
      ]
     },
     "execution_count": 2,
     "metadata": {},
     "output_type": "execute_result"
    }
   ],
   "source": [
    "load_dotenv()"
   ]
  },
  {
   "cell_type": "code",
   "execution_count": 3,
   "metadata": {},
   "outputs": [],
   "source": [
    "API_KEY = os.getenv(\"GEMINI_API_KEY\")\n",
    "genai.configure(api_key=API_KEY)\n",
    "model = genai.GenerativeModel(\"gemini-2.0-flash\")"
   ]
  },
  {
   "cell_type": "code",
   "execution_count": 4,
   "metadata": {},
   "outputs": [],
   "source": [
    "# read the image\n",
    "from PIL import Image\n",
    "\n",
    "import io\n",
    "\n",
    "image_path = \"C:/Users/ISHMO_CT/Desktop/projects/PLUG_OCR/img/Reciept.jfif\"\n",
    "image = Image.open(image_path)"
   ]
  },
  {
   "cell_type": "code",
   "execution_count": 11,
   "metadata": {},
   "outputs": [
    {
     "name": "stdout",
     "output_type": "stream",
     "text": [
      "receipt detail Here are the bounding box detections:\n",
      "```json\n",
      "[\n",
      "  {\"box_2d\": [218, 425, 250, 593], \"label\": \"RECEIPT\"},\n",
      "  {\"box_2d\": [312, 332, 332, 495], \"label\": \"1x Chicken Soup\"},\n",
      "  {\"box_2d\": [338, 332, 359, 494], \"label\": \"2x Tomato Soup\"},\n",
      "  {\"box_2d\": [367, 332, 387, 502], \"label\": \"1x Crispy Chicken\"},\n",
      "  {\"box_2d\": [395, 332, 415, 500], \"label\": \"1x Mineral Water\"},\n",
      "  {\"box_2d\": [421, 332, 441, 433], \"label\": \"2x Ice Tea\"},\n",
      "  {\"box_2d\": [448, 332, 469, 477], \"label\": \"1x Lemon Juice\"},\n",
      "  {\"box_2d\": [475, 332, 496, 483], \"label\": \"1x Mango Juice\"},\n",
      "  {\"box_2d\": [531, 332, 551, 478], \"label\": \"TOTAL AMOUNT\"},\n",
      "  {\"box_2d\": [679, 381, 711, 617], \"label\": \"THANK YOU\"},\n",
      "  {\"box_2d\": [312, 595, 332, 675], \"label\": \"$ 45.00\"},\n",
      "  {\"box_2d\": [338, 595, 359, 674], \"label\": \"$ 15.00\"},\n",
      "  {\"box_2d\": [367, 595, 387, 675], \"label\": \"$ 30.00\"},\n",
      "  {\"box_2d\": [395, 595, 415, 675], \"label\": \"$ 1.00\"},\n",
      "  {\"box_2d\": [421, 595, 441, 675], \"label\": \"$ 3.00\"},\n",
      "  {\"box_2d\": [448, 595, 469, 675], \"label\": \"$ 7.00\"},\n",
      "  {\"box_2d\": [475, 595, 496, 675], \"label\": \"$ 7.00\"},\n",
      "  {\"box_2d\": [531, 595, 551, 674], \"label\": \"$108.00\"},\n",
      "  {\"box_2d\": [578, 332, 599, 381], \"label\": \"CASH\"},\n",
      "  {\"box_2d\": [607, 332, 627, 405], \"label\": \"CHANGE\"},\n",
      "  {\"box_2d\": [578, 595, 599, 674], \"label\": \"$200.00\"},\n",
      "  {\"box_2d\": [607, 595, 627, 674], \"label\": \"$ 92.00\"}\n",
      "]\n",
      "```\n"
     ]
    }
   ],
   "source": [
    "responce = model.generate_content([image], stream=False)\n",
    "receipt_text = responce.candidates[0].content.parts[0].text\n",
    "print(\"receipt detail\", receipt_text)"
   ]
  },
  {
   "cell_type": "code",
   "execution_count": 12,
   "metadata": {},
   "outputs": [
    {
     "name": "stdout",
     "output_type": "stream",
     "text": [
      "receipt detail response:\n",
      "GenerateContentResponse(\n",
      "    done=True,\n",
      "    iterator=None,\n",
      "    result=protos.GenerateContentResponse({\n",
      "      \"candidates\": [\n",
      "        {\n",
      "          \"content\": {\n",
      "            \"parts\": [\n",
      "              {\n",
      "                \"text\": \"Here are the bounding box detections:\\n```json\\n[\\n  {\\\"box_2d\\\": [218, 425, 250, 593], \\\"label\\\": \\\"RECEIPT\\\"},\\n  {\\\"box_2d\\\": [312, 332, 332, 495], \\\"label\\\": \\\"1x Chicken Soup\\\"},\\n  {\\\"box_2d\\\": [338, 332, 359, 494], \\\"label\\\": \\\"2x Tomato Soup\\\"},\\n  {\\\"box_2d\\\": [367, 332, 387, 502], \\\"label\\\": \\\"1x Crispy Chicken\\\"},\\n  {\\\"box_2d\\\": [395, 332, 415, 500], \\\"label\\\": \\\"1x Mineral Water\\\"},\\n  {\\\"box_2d\\\": [421, 332, 441, 433], \\\"label\\\": \\\"2x Ice Tea\\\"},\\n  {\\\"box_2d\\\": [448, 332, 469, 477], \\\"label\\\": \\\"1x Lemon Juice\\\"},\\n  {\\\"box_2d\\\": [475, 332, 496, 483], \\\"label\\\": \\\"1x Mango Juice\\\"},\\n  {\\\"box_2d\\\": [531, 332, 551, 478], \\\"label\\\": \\\"TOTAL AMOUNT\\\"},\\n  {\\\"box_2d\\\": [679, 381, 711, 617], \\\"label\\\": \\\"THANK YOU\\\"},\\n  {\\\"box_2d\\\": [312, 595, 332, 675], \\\"label\\\": \\\"$ 45.00\\\"},\\n  {\\\"box_2d\\\": [338, 595, 359, 674], \\\"label\\\": \\\"$ 15.00\\\"},\\n  {\\\"box_2d\\\": [367, 595, 387, 675], \\\"label\\\": \\\"$ 30.00\\\"},\\n  {\\\"box_2d\\\": [395, 595, 415, 675], \\\"label\\\": \\\"$ 1.00\\\"},\\n  {\\\"box_2d\\\": [421, 595, 441, 675], \\\"label\\\": \\\"$ 3.00\\\"},\\n  {\\\"box_2d\\\": [448, 595, 469, 675], \\\"label\\\": \\\"$ 7.00\\\"},\\n  {\\\"box_2d\\\": [475, 595, 496, 675], \\\"label\\\": \\\"$ 7.00\\\"},\\n  {\\\"box_2d\\\": [531, 595, 551, 674], \\\"label\\\": \\\"$108.00\\\"},\\n  {\\\"box_2d\\\": [578, 332, 599, 381], \\\"label\\\": \\\"CASH\\\"},\\n  {\\\"box_2d\\\": [607, 332, 627, 405], \\\"label\\\": \\\"CHANGE\\\"},\\n  {\\\"box_2d\\\": [578, 595, 599, 674], \\\"label\\\": \\\"$200.00\\\"},\\n  {\\\"box_2d\\\": [607, 595, 627, 674], \\\"label\\\": \\\"$ 92.00\\\"}\\n]\\n```\"\n",
      "              }\n",
      "            ],\n",
      "            \"role\": \"model\"\n",
      "          },\n",
      "          \"finish_reason\": \"STOP\",\n",
      "          \"avg_logprobs\": -0.08181240347077806\n",
      "        }\n",
      "      ],\n",
      "      \"usage_metadata\": {\n",
      "        \"prompt_token_count\": 1291,\n",
      "        \"candidates_token_count\": 834,\n",
      "        \"total_token_count\": 2125\n",
      "      },\n",
      "      \"model_version\": \"gemini-2.0-flash\"\n",
      "    }),\n",
      ")\n"
     ]
    }
   ],
   "source": [
    "print(\"receipt detail\", responce)\n"
   ]
  },
  {
   "cell_type": "code",
   "execution_count": 13,
   "metadata": {},
   "outputs": [],
   "source": [
    "import json\n",
    "from docx import Document"
   ]
  },
  {
   "cell_type": "code",
   "execution_count": 15,
   "metadata": {},
   "outputs": [],
   "source": [
    "doc = Document()\n",
    "\n",
    "doc.add_paragraph(f'Item: {receipt_text}')\n",
    "# doc.add_paragraph(f'Bounding Box: {Box}')\n",
    "doc.add_paragraph('\\n' + '_' *50 + '\\n')\n",
    "doc.save(\"receipt_details.docx\")"
   ]
  },
  {
   "cell_type": "code",
   "execution_count": null,
   "metadata": {},
   "outputs": [],
   "source": []
  }
 ],
 "metadata": {
  "kernelspec": {
   "display_name": "PLUG_OCR-vcGxd2AH",
   "language": "python",
   "name": "python3"
  },
  "language_info": {
   "codemirror_mode": {
    "name": "ipython",
    "version": 3
   },
   "file_extension": ".py",
   "mimetype": "text/x-python",
   "name": "python",
   "nbconvert_exporter": "python",
   "pygments_lexer": "ipython3",
   "version": "3.11.5"
  }
 },
 "nbformat": 4,
 "nbformat_minor": 2
}
